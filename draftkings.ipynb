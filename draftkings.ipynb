{
 "cells": [
  {
   "cell_type": "code",
   "execution_count": 49,
   "id": "a1d6e340-359f-433f-b8dc-bfaadc0cfb5e",
   "metadata": {},
   "outputs": [],
   "source": [
    "from selenium import webdriver\n",
    "from selenium.webdriver.common.keys import Keys\n",
    "import time\n",
    "import pandas as pd\n",
    "from datetime import datetime, timedelta\n",
    "from selenium.webdriver.common.by import By\n",
    "from selenium.webdriver.support.ui import WebDriverWait\n",
    "from selenium.webdriver.support import expected_conditions as EC\n",
    "from selenium.webdriver.chrome.options import Options\n",
    "from selenium_stealth import stealth\n",
    "import undetected_chromedriver as uc"
   ]
  },
  {
   "cell_type": "code",
   "execution_count": 2,
   "id": "4004bc5c",
   "metadata": {},
   "outputs": [],
   "source": [
    "def getAbbreviations():\n",
    "    df_convert = pd.read_csv('teamAbbreviations.csv')\n",
    "    df_convert['Url'] = [x.replace(' ', '-').lower().replace('.', '') for x in df_convert['Full Name']]\n",
    "    return df_convert"
   ]
  },
  {
   "cell_type": "code",
   "execution_count": 3,
   "id": "bc628853",
   "metadata": {},
   "outputs": [
    {
     "data": {
      "text/html": [
       "<div>\n",
       "<style scoped>\n",
       "    .dataframe tbody tr th:only-of-type {\n",
       "        vertical-align: middle;\n",
       "    }\n",
       "\n",
       "    .dataframe tbody tr th {\n",
       "        vertical-align: top;\n",
       "    }\n",
       "\n",
       "    .dataframe thead th {\n",
       "        text-align: right;\n",
       "    }\n",
       "</style>\n",
       "<table border=\"1\" class=\"dataframe\">\n",
       "  <thead>\n",
       "    <tr style=\"text-align: right;\">\n",
       "      <th></th>\n",
       "      <th>Full Name</th>\n",
       "      <th>Abbreviation</th>\n",
       "      <th>League</th>\n",
       "      <th>Mascot</th>\n",
       "      <th>City</th>\n",
       "      <th>Url</th>\n",
       "    </tr>\n",
       "  </thead>\n",
       "  <tbody>\n",
       "    <tr>\n",
       "      <th>0</th>\n",
       "      <td>Atlanta Hawks</td>\n",
       "      <td>ATL</td>\n",
       "      <td>NBA</td>\n",
       "      <td>Hawks</td>\n",
       "      <td>Atlanta</td>\n",
       "      <td>atlanta-hawks</td>\n",
       "    </tr>\n",
       "    <tr>\n",
       "      <th>1</th>\n",
       "      <td>Boston Celtics</td>\n",
       "      <td>BOS</td>\n",
       "      <td>NBA</td>\n",
       "      <td>Celtics</td>\n",
       "      <td>Boston</td>\n",
       "      <td>boston-celtics</td>\n",
       "    </tr>\n",
       "    <tr>\n",
       "      <th>2</th>\n",
       "      <td>Brooklyn Nets</td>\n",
       "      <td>BKN</td>\n",
       "      <td>NBA</td>\n",
       "      <td>Nets</td>\n",
       "      <td>Brooklyn</td>\n",
       "      <td>brooklyn-nets</td>\n",
       "    </tr>\n",
       "    <tr>\n",
       "      <th>3</th>\n",
       "      <td>Charlotte Hornets</td>\n",
       "      <td>CHA</td>\n",
       "      <td>NBA</td>\n",
       "      <td>Hornets</td>\n",
       "      <td>Charlotte</td>\n",
       "      <td>charlotte-hornets</td>\n",
       "    </tr>\n",
       "    <tr>\n",
       "      <th>4</th>\n",
       "      <td>Chicago Bulls</td>\n",
       "      <td>CHI</td>\n",
       "      <td>NBA</td>\n",
       "      <td>Bulls</td>\n",
       "      <td>Chicago</td>\n",
       "      <td>chicago-bulls</td>\n",
       "    </tr>\n",
       "  </tbody>\n",
       "</table>\n",
       "</div>"
      ],
      "text/plain": [
       "           Full Name Abbreviation League   Mascot       City  \\\n",
       "0      Atlanta Hawks          ATL    NBA    Hawks    Atlanta   \n",
       "1     Boston Celtics          BOS    NBA  Celtics     Boston   \n",
       "2      Brooklyn Nets          BKN    NBA     Nets   Brooklyn   \n",
       "3  Charlotte Hornets          CHA    NBA  Hornets  Charlotte   \n",
       "4      Chicago Bulls          CHI    NBA    Bulls    Chicago   \n",
       "\n",
       "                 Url  \n",
       "0      atlanta-hawks  \n",
       "1     boston-celtics  \n",
       "2      brooklyn-nets  \n",
       "3  charlotte-hornets  \n",
       "4      chicago-bulls  "
      ]
     },
     "execution_count": 3,
     "metadata": {},
     "output_type": "execute_result"
    }
   ],
   "source": [
    "df_convert = getAbbreviations()\n",
    "df_convert.head()"
   ]
  },
  {
   "cell_type": "code",
   "execution_count": 4,
   "id": "75cdb632",
   "metadata": {},
   "outputs": [],
   "source": [
    "def initDriver(url, driver):\n",
    "    if driver is None: \n",
    "        options = Options()\n",
    "        driver = uc.Chrome(options=options)\n",
    "        \n",
    "    driver.get(url)\n",
    "    return driver"
   ]
  },
  {
   "cell_type": "code",
   "execution_count": 5,
   "id": "6b74f5d5-02dd-48c9-8908-49c34737b2e8",
   "metadata": {},
   "outputs": [],
   "source": [
    "def findPlayer(driver, player, team, league):\n",
    "    time.sleep(1)\n",
    "    players = driver.find_elements(By.XPATH, '//a[@class=\"sportsbook-row-name__wrapper-link\"]')\n",
    "    links = [playerLink.get_attribute('href') for playerLink in players]\n",
    "\n",
    "    for i in range(len(players)):\n",
    "        playerFound = players[i].find_element(By.CLASS_NAME, 'sportsbook-row-name')\n",
    "        if playerFound.text == player:\n",
    "            driver.get(links[i])\n",
    "            break\n",
    "        \n",
    "    return None"
   ]
  },
  {
   "cell_type": "code",
   "execution_count": 80,
   "id": "2906b367",
   "metadata": {},
   "outputs": [],
   "source": [
    "def scrapeLines(driver, player, team, league):\n",
    "    time.sleep(5)\n",
    "    categories = driver.find_elements(By.CLASS_NAME, \"market__header\")\n",
    "    first = 0\n",
    "    \n",
    "    for category in categories:\n",
    "        if (first == 0):\n",
    "            first += 1\n",
    "        else:\n",
    "            category.click()\n",
    "        driver.execute_script(\"window.scrollBy(0, 200);\")\n",
    "        time.sleep(0.5)\n",
    "            \n",
    "    lines = driver.find_elements(By.CLASS_NAME, \"market__button-points\")\n",
    "    odds = driver.find_elements(By.CLASS_NAME, \"market__button-odds\")\n",
    "    \n",
    "    print(\"here\")\n",
    "    \n",
    "    i = 0\n",
    "    for category in categories:\n",
    "        line = lines[int(i/2)].text\n",
    "        over, under = odds[i].text, odds[i + 1].text\n",
    "        i += 2\n",
    "        \n",
    "        print(line + \" \" + over + \" \" + under)\n",
    "        \n",
    "    \n",
    "    return None\n",
    "    \"\"\"\n",
    "    row = driver.find_element(By.CLASS_NAME, \"Table__sub-header\")\n",
    "    categories = row.find_elements(By.CSS_SELECTOR, \"th.Table__TH\")\n",
    "    row = driver.find_element(By.XPATH, './/tr[@data-idx=\"0\"]')\n",
    "    stats = row.find_elements(By.CSS_SELECTOR, \"td.Table__TD\")\n",
    "    players = {'Name': player, 'Team': team, 'League': league, 'Date': date}\n",
    "    \n",
    "    if date.date() == datetime.strptime(stats[0].text[4:] + '/2023', '%m/%d/%Y').date():  \n",
    "        for i in range(len(categories)):\n",
    "            players[categories[i].text] = stats[i].text\n",
    "            \n",
    "    return players\"\"\""
   ]
  },
  {
   "cell_type": "code",
   "execution_count": 81,
   "id": "d0670ec9",
   "metadata": {},
   "outputs": [],
   "source": [
    "def run(df_query):\n",
    "    lineLst = []\n",
    "    driver = None\n",
    "    sportDict = {\"MLB\": \"baseball\", \"NHL\": \"hockey\", \"NBA\": \"basketball\", \"NFL\": \"football\"}\n",
    "    \n",
    "    try:\n",
    "        for index, row in df_query.iterrows():\n",
    "            player, team, league = row[\"Name\"], row[\"Team\"], row[\"League\"]\n",
    "            url = 'https://sportsbook.draftkings.com/teams/' + sportDict[league] + '/' + league.lower() + '/' + df_convert.loc[(df_convert['Abbreviation'] == team) & (df_convert['League'] == league), 'Url'].values[0]\n",
    "            driver = initDriver(url, driver)\n",
    "            findPlayer(driver, player, team, league)\n",
    "            lineLst.append(scrapeLines(driver, player, team, league))\n",
    "    finally:\n",
    "        driver.quit()\n",
    "            \n",
    "    return pd.DataFrame(lineLst)"
   ]
  },
  {
   "cell_type": "code",
   "execution_count": 82,
   "id": "dfabec68-bdf4-4309-92f8-16b725c0bae8",
   "metadata": {},
   "outputs": [
    {
     "name": "stdout",
     "output_type": "stream",
     "text": [
      "here\n",
      "5.5 +105 −140\n",
      "5.5 −115 −115\n",
      "15.5 +265 −390\n",
      "15.5 +130 −170\n",
      "5.5 −140 +105\n",
      "5.5 −105 −125\n",
      "here\n"
     ]
    }
   ],
   "source": [
    "data = [['Matthew Boyd', 'DET', 'MLB'], ['Thairo Estrada', 'SF', 'MLB']]\n",
    "df_query = pd.DataFrame(data, columns=['Name', 'Team', 'League'])\n",
    "df = run(df_query)"
   ]
  },
  {
   "cell_type": "code",
   "execution_count": 40,
   "id": "3bc1444f",
   "metadata": {},
   "outputs": [],
   "source": [
    "dfCopy = df.copy()"
   ]
  },
  {
   "cell_type": "code",
   "execution_count": 9,
   "id": "321f4eeb",
   "metadata": {},
   "outputs": [],
   "source": [
    "df = dfCopy.copy()"
   ]
  },
  {
   "cell_type": "code",
   "execution_count": 10,
   "id": "5e22596f-b948-4e54-a5be-5b779a63143f",
   "metadata": {},
   "outputs": [
    {
     "data": {
      "text/plain": [
       "(2, 34)"
      ]
     },
     "execution_count": 10,
     "metadata": {},
     "output_type": "execute_result"
    }
   ],
   "source": [
    "df.shape"
   ]
  },
  {
   "cell_type": "code",
   "execution_count": 11,
   "id": "6371c616",
   "metadata": {},
   "outputs": [
    {
     "data": {
      "text/plain": [
       "Index(['Name', 'Team', 'League', 'Date', 'DATE', 'OPP', 'RESULT', 'IP', 'H',\n",
       "       'R', 'ER', 'HR', 'BB', 'K', 'GB', 'FB', 'P', 'TBF', 'GSC', 'DEC', 'REL',\n",
       "       'ERA', 'AB', '2B', '3B', 'RBI', 'HBP', 'SO', 'SB', 'CS', 'AVG', 'OBP',\n",
       "       'SLG', 'OPS'],\n",
       "      dtype='object')"
      ]
     },
     "execution_count": 11,
     "metadata": {},
     "output_type": "execute_result"
    }
   ],
   "source": [
    "df.columns"
   ]
  },
  {
   "cell_type": "code",
   "execution_count": 12,
   "id": "4af8dacf",
   "metadata": {},
   "outputs": [
    {
     "data": {
      "text/html": [
       "<div>\n",
       "<style scoped>\n",
       "    .dataframe tbody tr th:only-of-type {\n",
       "        vertical-align: middle;\n",
       "    }\n",
       "\n",
       "    .dataframe tbody tr th {\n",
       "        vertical-align: top;\n",
       "    }\n",
       "\n",
       "    .dataframe thead th {\n",
       "        text-align: right;\n",
       "    }\n",
       "</style>\n",
       "<table border=\"1\" class=\"dataframe\">\n",
       "  <thead>\n",
       "    <tr style=\"text-align: right;\">\n",
       "      <th></th>\n",
       "      <th>Name</th>\n",
       "      <th>Team</th>\n",
       "      <th>League</th>\n",
       "      <th>Date</th>\n",
       "      <th>DATE</th>\n",
       "      <th>OPP</th>\n",
       "      <th>RESULT</th>\n",
       "      <th>IP</th>\n",
       "      <th>H</th>\n",
       "      <th>R</th>\n",
       "      <th>...</th>\n",
       "      <th>3B</th>\n",
       "      <th>RBI</th>\n",
       "      <th>HBP</th>\n",
       "      <th>SO</th>\n",
       "      <th>SB</th>\n",
       "      <th>CS</th>\n",
       "      <th>AVG</th>\n",
       "      <th>OBP</th>\n",
       "      <th>SLG</th>\n",
       "      <th>OPS</th>\n",
       "    </tr>\n",
       "  </thead>\n",
       "  <tbody>\n",
       "    <tr>\n",
       "      <th>0</th>\n",
       "      <td>Tyler Anderson</td>\n",
       "      <td>LAA</td>\n",
       "      <td>MLB</td>\n",
       "      <td>2023-06-06</td>\n",
       "      <td>Tue 6/6</td>\n",
       "      <td>vs\\nCHC</td>\n",
       "      <td>W\\n7-4</td>\n",
       "      <td>5.0</td>\n",
       "      <td>5</td>\n",
       "      <td>4</td>\n",
       "      <td>...</td>\n",
       "      <td>NaN</td>\n",
       "      <td>NaN</td>\n",
       "      <td>NaN</td>\n",
       "      <td>NaN</td>\n",
       "      <td>NaN</td>\n",
       "      <td>NaN</td>\n",
       "      <td>NaN</td>\n",
       "      <td>NaN</td>\n",
       "      <td>NaN</td>\n",
       "      <td>NaN</td>\n",
       "    </tr>\n",
       "    <tr>\n",
       "      <th>1</th>\n",
       "      <td>Thairo Estrada</td>\n",
       "      <td>SFG</td>\n",
       "      <td>MLB</td>\n",
       "      <td>2023-06-10</td>\n",
       "      <td>Sat 6/10</td>\n",
       "      <td>vs\\nCHC</td>\n",
       "      <td>L\\n4-0</td>\n",
       "      <td>NaN</td>\n",
       "      <td>0</td>\n",
       "      <td>0</td>\n",
       "      <td>...</td>\n",
       "      <td>0</td>\n",
       "      <td>0</td>\n",
       "      <td>0</td>\n",
       "      <td>2</td>\n",
       "      <td>0</td>\n",
       "      <td>0</td>\n",
       "      <td>.293</td>\n",
       "      <td>.339</td>\n",
       "      <td>.470</td>\n",
       "      <td>.809</td>\n",
       "    </tr>\n",
       "  </tbody>\n",
       "</table>\n",
       "<p>2 rows × 34 columns</p>\n",
       "</div>"
      ],
      "text/plain": [
       "             Name Team League       Date      DATE      OPP  RESULT   IP  H  \\\n",
       "0  Tyler Anderson  LAA    MLB 2023-06-06   Tue 6/6  vs\\nCHC  W\\n7-4  5.0  5   \n",
       "1  Thairo Estrada  SFG    MLB 2023-06-10  Sat 6/10  vs\\nCHC  L\\n4-0  NaN  0   \n",
       "\n",
       "   R  ...   3B  RBI  HBP   SO   SB   CS   AVG   OBP   SLG   OPS  \n",
       "0  4  ...  NaN  NaN  NaN  NaN  NaN  NaN   NaN   NaN   NaN   NaN  \n",
       "1  0  ...    0    0    0    2    0    0  .293  .339  .470  .809  \n",
       "\n",
       "[2 rows x 34 columns]"
      ]
     },
     "execution_count": 12,
     "metadata": {},
     "output_type": "execute_result"
    }
   ],
   "source": [
    "df.head()"
   ]
  },
  {
   "cell_type": "code",
   "execution_count": 13,
   "id": "8954e559",
   "metadata": {},
   "outputs": [
    {
     "data": {
      "text/html": [
       "<div>\n",
       "<style scoped>\n",
       "    .dataframe tbody tr th:only-of-type {\n",
       "        vertical-align: middle;\n",
       "    }\n",
       "\n",
       "    .dataframe tbody tr th {\n",
       "        vertical-align: top;\n",
       "    }\n",
       "\n",
       "    .dataframe thead th {\n",
       "        text-align: right;\n",
       "    }\n",
       "</style>\n",
       "<table border=\"1\" class=\"dataframe\">\n",
       "  <thead>\n",
       "    <tr style=\"text-align: right;\">\n",
       "      <th></th>\n",
       "      <th>Name</th>\n",
       "      <th>Team</th>\n",
       "      <th>League</th>\n",
       "      <th>Date</th>\n",
       "      <th>DATE</th>\n",
       "      <th>OPP</th>\n",
       "      <th>RESULT</th>\n",
       "      <th>IP</th>\n",
       "      <th>H</th>\n",
       "      <th>R</th>\n",
       "      <th>...</th>\n",
       "      <th>3B</th>\n",
       "      <th>RBI</th>\n",
       "      <th>HBP</th>\n",
       "      <th>SO</th>\n",
       "      <th>SB</th>\n",
       "      <th>CS</th>\n",
       "      <th>AVG</th>\n",
       "      <th>OBP</th>\n",
       "      <th>SLG</th>\n",
       "      <th>OPS</th>\n",
       "    </tr>\n",
       "  </thead>\n",
       "  <tbody>\n",
       "    <tr>\n",
       "      <th>0</th>\n",
       "      <td>Tyler Anderson</td>\n",
       "      <td>LAA</td>\n",
       "      <td>MLB</td>\n",
       "      <td>2023-06-06</td>\n",
       "      <td>Tue 6/6</td>\n",
       "      <td>vs\\nCHC</td>\n",
       "      <td>W\\n7-4</td>\n",
       "      <td>5.0</td>\n",
       "      <td>5</td>\n",
       "      <td>4</td>\n",
       "      <td>...</td>\n",
       "      <td>NaN</td>\n",
       "      <td>NaN</td>\n",
       "      <td>NaN</td>\n",
       "      <td>NaN</td>\n",
       "      <td>NaN</td>\n",
       "      <td>NaN</td>\n",
       "      <td>NaN</td>\n",
       "      <td>NaN</td>\n",
       "      <td>NaN</td>\n",
       "      <td>NaN</td>\n",
       "    </tr>\n",
       "    <tr>\n",
       "      <th>1</th>\n",
       "      <td>Thairo Estrada</td>\n",
       "      <td>SFG</td>\n",
       "      <td>MLB</td>\n",
       "      <td>2023-06-10</td>\n",
       "      <td>Sat 6/10</td>\n",
       "      <td>vs\\nCHC</td>\n",
       "      <td>L\\n4-0</td>\n",
       "      <td>NaN</td>\n",
       "      <td>0</td>\n",
       "      <td>0</td>\n",
       "      <td>...</td>\n",
       "      <td>0</td>\n",
       "      <td>0</td>\n",
       "      <td>0</td>\n",
       "      <td>2</td>\n",
       "      <td>0</td>\n",
       "      <td>0</td>\n",
       "      <td>.293</td>\n",
       "      <td>.339</td>\n",
       "      <td>.470</td>\n",
       "      <td>.809</td>\n",
       "    </tr>\n",
       "  </tbody>\n",
       "</table>\n",
       "<p>2 rows × 34 columns</p>\n",
       "</div>"
      ],
      "text/plain": [
       "             Name Team League       Date      DATE      OPP  RESULT   IP  H  \\\n",
       "0  Tyler Anderson  LAA    MLB 2023-06-06   Tue 6/6  vs\\nCHC  W\\n7-4  5.0  5   \n",
       "1  Thairo Estrada  SFG    MLB 2023-06-10  Sat 6/10  vs\\nCHC  L\\n4-0  NaN  0   \n",
       "\n",
       "   R  ...   3B  RBI  HBP   SO   SB   CS   AVG   OBP   SLG   OPS  \n",
       "0  4  ...  NaN  NaN  NaN  NaN  NaN  NaN   NaN   NaN   NaN   NaN  \n",
       "1  0  ...    0    0    0    2    0    0  .293  .339  .470  .809  \n",
       "\n",
       "[2 rows x 34 columns]"
      ]
     },
     "execution_count": 13,
     "metadata": {},
     "output_type": "execute_result"
    }
   ],
   "source": [
    "df.tail()"
   ]
  },
  {
   "cell_type": "code",
   "execution_count": 1,
   "id": "b274d1d2",
   "metadata": {},
   "outputs": [
    {
     "ename": "NameError",
     "evalue": "name 'pd' is not defined",
     "output_type": "error",
     "traceback": [
      "\u001b[0;31m---------------------------------------------------------------------------\u001b[0m",
      "\u001b[0;31mNameError\u001b[0m                                 Traceback (most recent call last)",
      "Cell \u001b[0;32mIn[1], line 1\u001b[0m\n\u001b[0;32m----> 1\u001b[0m df_convert \u001b[38;5;241m=\u001b[39m \u001b[43mpd\u001b[49m\u001b[38;5;241m.\u001b[39mread_csv(\u001b[38;5;124m'\u001b[39m\u001b[38;5;124msportsProject/teamAbbreviations.csv\u001b[39m\u001b[38;5;124m'\u001b[39m)\n",
      "\u001b[0;31mNameError\u001b[0m: name 'pd' is not defined"
     ]
    }
   ],
   "source": []
  },
  {
   "cell_type": "code",
   "execution_count": null,
   "id": "22466907",
   "metadata": {},
   "outputs": [],
   "source": []
  }
 ],
 "metadata": {
  "kernelspec": {
   "display_name": "Python 3 (ipykernel)",
   "language": "python",
   "name": "python3"
  },
  "language_info": {
   "codemirror_mode": {
    "name": "ipython",
    "version": 3
   },
   "file_extension": ".py",
   "mimetype": "text/x-python",
   "name": "python",
   "nbconvert_exporter": "python",
   "pygments_lexer": "ipython3",
   "version": "3.10.9"
  }
 },
 "nbformat": 4,
 "nbformat_minor": 5
}
