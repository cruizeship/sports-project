{
 "cells": [
  {
   "cell_type": "code",
   "execution_count": 1,
   "id": "a1d6e340-359f-433f-b8dc-bfaadc0cfb5e",
   "metadata": {},
   "outputs": [],
   "source": [
    "from selenium import webdriver\n",
    "from selenium.webdriver.common.keys import Keys\n",
    "import time\n",
    "import pandas as pd\n",
    "from datetime import datetime, timedelta\n",
    "from selenium.webdriver.common.by import By\n",
    "from selenium.webdriver.support.ui import WebDriverWait\n",
    "from selenium.webdriver.support import expected_conditions as EC\n",
    "from selenium.webdriver.chrome.options import Options\n",
    "from selenium_stealth import stealth\n",
    "import undetected_chromedriver as uc"
   ]
  },
  {
   "cell_type": "code",
   "execution_count": 14,
   "id": "75cdb632",
   "metadata": {},
   "outputs": [],
   "source": [
    "def initDriver(url, driver):\n",
    "    if driver is None: \n",
    "        options = Options()\n",
    "        options.add_argument('--blink-settings=imagesEnabled=false')\n",
    "        driver = uc.Chrome(options=options)\n",
    "        \n",
    "    driver.get(url)\n",
    "    return driver"
   ]
  },
  {
   "cell_type": "code",
   "execution_count": 3,
   "id": "6b74f5d5-02dd-48c9-8908-49c34737b2e8",
   "metadata": {},
   "outputs": [],
   "source": [
    "def findPlayer(driver, player, team, league):\n",
    "    time.sleep(1)\n",
    "    items = driver.find_elements(By.XPATH, '//li[@class=\"player__Results__Item\"]')\n",
    "    teams = driver.find_elements(By.XPATH, '//div[@class=\"LogoTile__Meta LogoTile__Meta--subtitle\"]')\n",
    "    leagues = driver.find_elements(By.XPATH, '//div[@class=\"LogoTile__Meta LogoTile__Meta--category\"]')\n",
    "    \n",
    "    for i in range(len(items)):\n",
    "        if leagues[i].text == league:\n",
    "            items[i].click()\n",
    "            break\n",
    "        \n",
    "    return None"
   ]
  },
  {
   "cell_type": "code",
   "execution_count": 4,
   "id": "dfbed0a1",
   "metadata": {},
   "outputs": [],
   "source": [
    "def findStats(driver, player, team, league):\n",
    "    time.sleep(1)\n",
    "    driver.find_element(By.XPATH, '//span[text()=\"Game Log\"]').click()\n",
    "    return None"
   ]
  },
  {
   "cell_type": "code",
   "execution_count": 5,
   "id": "2906b367",
   "metadata": {},
   "outputs": [],
   "source": [
    "def scrapeStats(driver, player, team, league, date):\n",
    "    time.sleep(1)\n",
    "    row = driver.find_element(By.CLASS_NAME, \"Table__sub-header\")\n",
    "    categories = row.find_elements(By.CSS_SELECTOR, \"th.Table__TH\")\n",
    "    row = driver.find_element(By.XPATH, './/tr[@data-idx=\"0\"]')\n",
    "    stats = row.find_elements(By.CSS_SELECTOR, \"td.Table__TD\")\n",
    "    players = {'Name': player, 'Team': team, 'League': league, 'Date': date}\n",
    "    \n",
    "    if date.date() == datetime.strptime(stats[0].text[4:] + '/2023', '%m/%d/%Y').date():  \n",
    "        for i in range(len(categories)):\n",
    "            players[categories[i].text] = stats[i].text\n",
    "            \n",
    "    return players"
   ]
  },
  {
   "cell_type": "code",
   "execution_count": 6,
   "id": "d0670ec9",
   "metadata": {},
   "outputs": [],
   "source": [
    "def run(df_query):\n",
    "    statLst = []\n",
    "    driver = None\n",
    "    \n",
    "    try:\n",
    "        for index, row in df_query.iterrows():\n",
    "            player, team, league, date = row[\"Name\"], row[\"Team\"], row[\"League\"], row[\"Date\"]\n",
    "            url = 'https://www.espn.com/search/_/type/players/q/' + player.replace(' ', '%20')\n",
    "            driver = initDriver(url, driver)\n",
    "            findPlayer(driver, player, team, league)\n",
    "            findStats(driver, player, team, league)\n",
    "            statLst.append(scrapeStats(driver, player, team, league, date))\n",
    "    finally:\n",
    "        driver.quit()\n",
    "            \n",
    "    return pd.DataFrame(statLst)"
   ]
  },
  {
   "cell_type": "code",
   "execution_count": 7,
   "id": "dfabec68-bdf4-4309-92f8-16b725c0bae8",
   "metadata": {},
   "outputs": [],
   "source": [
    "data = [['Tyler Anderson', 'LAA', 'MLB', datetime(2023, 6, 6, 0, 0)], ['Thairo Estrada', 'SFG', 'MLB', datetime(2023, 6, 10, 0, 0)]]\n",
    "  \n",
    "# Create the pandas DataFrame\n",
    "df_query = pd.DataFrame(data, columns=['Name', 'Team', 'League', 'Date'])\n",
    "\n",
    "df = run(df_query)"
   ]
  },
  {
   "cell_type": "code",
   "execution_count": 8,
   "id": "3bc1444f",
   "metadata": {},
   "outputs": [],
   "source": [
    "dfCopy = df.copy()"
   ]
  },
  {
   "cell_type": "code",
   "execution_count": 9,
   "id": "321f4eeb",
   "metadata": {},
   "outputs": [],
   "source": [
    "df = dfCopy.copy()"
   ]
  },
  {
   "cell_type": "code",
   "execution_count": 10,
   "id": "5e22596f-b948-4e54-a5be-5b779a63143f",
   "metadata": {},
   "outputs": [
    {
     "data": {
      "text/plain": [
       "(2, 34)"
      ]
     },
     "execution_count": 10,
     "metadata": {},
     "output_type": "execute_result"
    }
   ],
   "source": [
    "df.shape"
   ]
  },
  {
   "cell_type": "code",
   "execution_count": 11,
   "id": "6371c616",
   "metadata": {},
   "outputs": [
    {
     "data": {
      "text/plain": [
       "Index(['Name', 'Team', 'League', 'Date', 'DATE', 'OPP', 'RESULT', 'IP', 'H',\n",
       "       'R', 'ER', 'HR', 'BB', 'K', 'GB', 'FB', 'P', 'TBF', 'GSC', 'DEC', 'REL',\n",
       "       'ERA', 'AB', '2B', '3B', 'RBI', 'HBP', 'SO', 'SB', 'CS', 'AVG', 'OBP',\n",
       "       'SLG', 'OPS'],\n",
       "      dtype='object')"
      ]
     },
     "execution_count": 11,
     "metadata": {},
     "output_type": "execute_result"
    }
   ],
   "source": [
    "df.columns"
   ]
  },
  {
   "cell_type": "code",
   "execution_count": 12,
   "id": "4af8dacf",
   "metadata": {},
   "outputs": [
    {
     "data": {
      "text/html": [
       "<div>\n",
       "<style scoped>\n",
       "    .dataframe tbody tr th:only-of-type {\n",
       "        vertical-align: middle;\n",
       "    }\n",
       "\n",
       "    .dataframe tbody tr th {\n",
       "        vertical-align: top;\n",
       "    }\n",
       "\n",
       "    .dataframe thead th {\n",
       "        text-align: right;\n",
       "    }\n",
       "</style>\n",
       "<table border=\"1\" class=\"dataframe\">\n",
       "  <thead>\n",
       "    <tr style=\"text-align: right;\">\n",
       "      <th></th>\n",
       "      <th>Name</th>\n",
       "      <th>Team</th>\n",
       "      <th>League</th>\n",
       "      <th>Date</th>\n",
       "      <th>DATE</th>\n",
       "      <th>OPP</th>\n",
       "      <th>RESULT</th>\n",
       "      <th>IP</th>\n",
       "      <th>H</th>\n",
       "      <th>R</th>\n",
       "      <th>...</th>\n",
       "      <th>3B</th>\n",
       "      <th>RBI</th>\n",
       "      <th>HBP</th>\n",
       "      <th>SO</th>\n",
       "      <th>SB</th>\n",
       "      <th>CS</th>\n",
       "      <th>AVG</th>\n",
       "      <th>OBP</th>\n",
       "      <th>SLG</th>\n",
       "      <th>OPS</th>\n",
       "    </tr>\n",
       "  </thead>\n",
       "  <tbody>\n",
       "    <tr>\n",
       "      <th>0</th>\n",
       "      <td>Tyler Anderson</td>\n",
       "      <td>LAA</td>\n",
       "      <td>MLB</td>\n",
       "      <td>2023-06-06</td>\n",
       "      <td>Tue 6/6</td>\n",
       "      <td>vs\\nCHC</td>\n",
       "      <td>W\\n7-4</td>\n",
       "      <td>5.0</td>\n",
       "      <td>5</td>\n",
       "      <td>4</td>\n",
       "      <td>...</td>\n",
       "      <td>NaN</td>\n",
       "      <td>NaN</td>\n",
       "      <td>NaN</td>\n",
       "      <td>NaN</td>\n",
       "      <td>NaN</td>\n",
       "      <td>NaN</td>\n",
       "      <td>NaN</td>\n",
       "      <td>NaN</td>\n",
       "      <td>NaN</td>\n",
       "      <td>NaN</td>\n",
       "    </tr>\n",
       "    <tr>\n",
       "      <th>1</th>\n",
       "      <td>Thairo Estrada</td>\n",
       "      <td>SFG</td>\n",
       "      <td>MLB</td>\n",
       "      <td>2023-06-10</td>\n",
       "      <td>Sat 6/10</td>\n",
       "      <td>vs\\nCHC</td>\n",
       "      <td>L\\n4-0</td>\n",
       "      <td>NaN</td>\n",
       "      <td>0</td>\n",
       "      <td>0</td>\n",
       "      <td>...</td>\n",
       "      <td>0</td>\n",
       "      <td>0</td>\n",
       "      <td>0</td>\n",
       "      <td>2</td>\n",
       "      <td>0</td>\n",
       "      <td>0</td>\n",
       "      <td>.293</td>\n",
       "      <td>.339</td>\n",
       "      <td>.470</td>\n",
       "      <td>.809</td>\n",
       "    </tr>\n",
       "  </tbody>\n",
       "</table>\n",
       "<p>2 rows × 34 columns</p>\n",
       "</div>"
      ],
      "text/plain": [
       "             Name Team League       Date      DATE      OPP  RESULT   IP  H  \\\n",
       "0  Tyler Anderson  LAA    MLB 2023-06-06   Tue 6/6  vs\\nCHC  W\\n7-4  5.0  5   \n",
       "1  Thairo Estrada  SFG    MLB 2023-06-10  Sat 6/10  vs\\nCHC  L\\n4-0  NaN  0   \n",
       "\n",
       "   R  ...   3B  RBI  HBP   SO   SB   CS   AVG   OBP   SLG   OPS  \n",
       "0  4  ...  NaN  NaN  NaN  NaN  NaN  NaN   NaN   NaN   NaN   NaN  \n",
       "1  0  ...    0    0    0    2    0    0  .293  .339  .470  .809  \n",
       "\n",
       "[2 rows x 34 columns]"
      ]
     },
     "execution_count": 12,
     "metadata": {},
     "output_type": "execute_result"
    }
   ],
   "source": [
    "df.head()"
   ]
  },
  {
   "cell_type": "code",
   "execution_count": 13,
   "id": "8954e559",
   "metadata": {},
   "outputs": [
    {
     "data": {
      "text/html": [
       "<div>\n",
       "<style scoped>\n",
       "    .dataframe tbody tr th:only-of-type {\n",
       "        vertical-align: middle;\n",
       "    }\n",
       "\n",
       "    .dataframe tbody tr th {\n",
       "        vertical-align: top;\n",
       "    }\n",
       "\n",
       "    .dataframe thead th {\n",
       "        text-align: right;\n",
       "    }\n",
       "</style>\n",
       "<table border=\"1\" class=\"dataframe\">\n",
       "  <thead>\n",
       "    <tr style=\"text-align: right;\">\n",
       "      <th></th>\n",
       "      <th>Name</th>\n",
       "      <th>Team</th>\n",
       "      <th>League</th>\n",
       "      <th>Date</th>\n",
       "      <th>DATE</th>\n",
       "      <th>OPP</th>\n",
       "      <th>RESULT</th>\n",
       "      <th>IP</th>\n",
       "      <th>H</th>\n",
       "      <th>R</th>\n",
       "      <th>...</th>\n",
       "      <th>3B</th>\n",
       "      <th>RBI</th>\n",
       "      <th>HBP</th>\n",
       "      <th>SO</th>\n",
       "      <th>SB</th>\n",
       "      <th>CS</th>\n",
       "      <th>AVG</th>\n",
       "      <th>OBP</th>\n",
       "      <th>SLG</th>\n",
       "      <th>OPS</th>\n",
       "    </tr>\n",
       "  </thead>\n",
       "  <tbody>\n",
       "    <tr>\n",
       "      <th>0</th>\n",
       "      <td>Tyler Anderson</td>\n",
       "      <td>LAA</td>\n",
       "      <td>MLB</td>\n",
       "      <td>2023-06-06</td>\n",
       "      <td>Tue 6/6</td>\n",
       "      <td>vs\\nCHC</td>\n",
       "      <td>W\\n7-4</td>\n",
       "      <td>5.0</td>\n",
       "      <td>5</td>\n",
       "      <td>4</td>\n",
       "      <td>...</td>\n",
       "      <td>NaN</td>\n",
       "      <td>NaN</td>\n",
       "      <td>NaN</td>\n",
       "      <td>NaN</td>\n",
       "      <td>NaN</td>\n",
       "      <td>NaN</td>\n",
       "      <td>NaN</td>\n",
       "      <td>NaN</td>\n",
       "      <td>NaN</td>\n",
       "      <td>NaN</td>\n",
       "    </tr>\n",
       "    <tr>\n",
       "      <th>1</th>\n",
       "      <td>Thairo Estrada</td>\n",
       "      <td>SFG</td>\n",
       "      <td>MLB</td>\n",
       "      <td>2023-06-10</td>\n",
       "      <td>Sat 6/10</td>\n",
       "      <td>vs\\nCHC</td>\n",
       "      <td>L\\n4-0</td>\n",
       "      <td>NaN</td>\n",
       "      <td>0</td>\n",
       "      <td>0</td>\n",
       "      <td>...</td>\n",
       "      <td>0</td>\n",
       "      <td>0</td>\n",
       "      <td>0</td>\n",
       "      <td>2</td>\n",
       "      <td>0</td>\n",
       "      <td>0</td>\n",
       "      <td>.293</td>\n",
       "      <td>.339</td>\n",
       "      <td>.470</td>\n",
       "      <td>.809</td>\n",
       "    </tr>\n",
       "  </tbody>\n",
       "</table>\n",
       "<p>2 rows × 34 columns</p>\n",
       "</div>"
      ],
      "text/plain": [
       "             Name Team League       Date      DATE      OPP  RESULT   IP  H  \\\n",
       "0  Tyler Anderson  LAA    MLB 2023-06-06   Tue 6/6  vs\\nCHC  W\\n7-4  5.0  5   \n",
       "1  Thairo Estrada  SFG    MLB 2023-06-10  Sat 6/10  vs\\nCHC  L\\n4-0  NaN  0   \n",
       "\n",
       "   R  ...   3B  RBI  HBP   SO   SB   CS   AVG   OBP   SLG   OPS  \n",
       "0  4  ...  NaN  NaN  NaN  NaN  NaN  NaN   NaN   NaN   NaN   NaN  \n",
       "1  0  ...    0    0    0    2    0    0  .293  .339  .470  .809  \n",
       "\n",
       "[2 rows x 34 columns]"
      ]
     },
     "execution_count": 13,
     "metadata": {},
     "output_type": "execute_result"
    }
   ],
   "source": [
    "df.tail()"
   ]
  }
 ],
 "metadata": {
  "kernelspec": {
   "display_name": "Python 3 (ipykernel)",
   "language": "python",
   "name": "python3"
  },
  "language_info": {
   "codemirror_mode": {
    "name": "ipython",
    "version": 3
   },
   "file_extension": ".py",
   "mimetype": "text/x-python",
   "name": "python",
   "nbconvert_exporter": "python",
   "pygments_lexer": "ipython3",
   "version": "3.10.9"
  }
 },
 "nbformat": 4,
 "nbformat_minor": 5
}
